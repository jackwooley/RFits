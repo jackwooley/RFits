{
 "cells": [
  {
   "cell_type": "code",
   "execution_count": 1,
   "outputs": [],
   "source": [
    "import random\n",
    "\n",
    "import pandas as pd"
   ],
   "metadata": {
    "collapsed": false,
    "pycharm": {
     "name": "#%%\n"
    }
   }
  },
  {
   "cell_type": "code",
   "execution_count": 2,
   "outputs": [
    {
     "data": {
      "text/plain": "{'swag': '', 'swag2': '', 'swag3': '', 'swag4': '', 'swag5': ''}"
     },
     "execution_count": 2,
     "metadata": {},
     "output_type": "execute_result"
    }
   ],
   "source": [
    "def category_keys(type_list: list):\n",
    "    \"\"\"Create a dictionary with keys and no values. Keys correspond to\n",
    "     different clothing categories.\n",
    "\n",
    "     Keyword arguments:\n",
    "     type_list -- a list of all the clothes categories you want to include.\n",
    "     \"\"\"\n",
    "\n",
    "    clothes_dict = {}\n",
    "    for i in range(0, len(type_list)):\n",
    "        clothes_dict[type_list[i]] = ''\n",
    "    return clothes_dict\n",
    "test_dict = category_keys(['swag', 'swag2', 'swag3', 'swag4', 'swag5'])\n",
    "test_dict"
   ],
   "metadata": {
    "collapsed": false,
    "pycharm": {
     "name": "#%%\n"
    }
   }
  },
  {
   "cell_type": "code",
   "execution_count": 4,
   "outputs": [
    {
     "data": {
      "text/plain": "{'swag': [''],\n 'swag2': [''],\n 'swag3': [''],\n 'swag4': [''],\n 'swag5': [''],\n 'swag1': ['']}"
     },
     "execution_count": 3,
     "metadata": {},
     "output_type": "execute_result"
    },
    {
     "data": {
      "text/plain": "{'swag': ['g'],\n 'swag2': ['g'],\n 'swag3': ['g'],\n 'swag4': ['g'],\n 'swag5': ['g'],\n 'swag1': ['g']}"
     },
     "execution_count": 4,
     "metadata": {},
     "output_type": "execute_result"
    }
   ],
   "source": [
    "def in_my_closet(which_dict: dict, clothes_types: list):#, all_the_clothes: list):\n",
    "    \"\"\"Add the clothes values into the previously created dictionary.\n",
    "\n",
    "    Keyword arguments:\n",
    "    which_dict -- what dictionary the function should modify\n",
    "    clothes_types -- a list of all the clothing types you want to modify\n",
    "    all_the_clothes -- a list of all the clothing types (the values in the\n",
    "    key-value pair of {'clothes category': ['clothing item 1']})\n",
    "    \"\"\"\n",
    "\n",
    "    for i in clothes_types:\n",
    "        list1 = list(str(input(f\"Enter a comma-separated list of clothing items in the {i} category.\")).split(\", \"))\n",
    "\n",
    "        for j in range(0, len(clothes_types)):\n",
    "            which_dict[clothes_types[j]] = list1#all_the_clothes[j]\n",
    "\n",
    "    return which_dict\n",
    "\n",
    "test_dict = in_my_closet(test_dict, ['swag', 'swag1', 'swag2', 'swag3', 'swag4', 'swag5'])#,\n",
    "                         # [['one', 'two'],\n",
    "                         #  ['three', 'four'],\n",
    "                         #  ['six', 'five'],\n",
    "                         #  ['seven', 'eight'],\n",
    "                         #  ['ten', 'nine'],\n",
    "                         #  ['eleven', 'twelve']])\n",
    "test_dict"
   ],
   "metadata": {
    "collapsed": false,
    "pycharm": {
     "name": "#%%\n"
    }
   }
  },
  {
   "cell_type": "code",
   "execution_count": 5,
   "outputs": [
    {
     "data": {
      "text/plain": "{'swag': 'g',\n 'swag2': 'g',\n 'swag3': 'g',\n 'swag4': 'g',\n 'swag5': 'g',\n 'swag1': 'g'}"
     },
     "execution_count": 5,
     "metadata": {},
     "output_type": "execute_result"
    }
   ],
   "source": [
    "def outfit_selector_function(full_closet_dict: dict):\n",
    "    \"\"\"Randomly select outfits from the 'closet'.\"\"\"\n",
    "\n",
    "    random_fit = {}\n",
    "    for i in full_closet_dict:\n",
    "        random_fit[i] = full_closet_dict[i]  # how do I just add the keys?\n",
    "        random_fit[i] = random.choice(test_dict[i])\n",
    "    # return DataFrame(array(random_fit))\n",
    "    return random_fit\n",
    "\n",
    "outfit_selector_function(test_dict)"
   ],
   "metadata": {
    "collapsed": false,
    "pycharm": {
     "name": "#%%\n"
    }
   }
  },
  {
   "cell_type": "code",
   "execution_count": 6,
   "outputs": [],
   "source": [
    "list1 = list(str(input(\"Enter a comma-separated list of clothing items.\")).split(\", \"))"
   ],
   "metadata": {
    "collapsed": false,
    "pycharm": {
     "name": "#%%\n"
    }
   }
  }
 ],
 "metadata": {
  "kernelspec": {
   "display_name": "Python 3",
   "language": "python",
   "name": "python3"
  },
  "language_info": {
   "codemirror_mode": {
    "name": "ipython",
    "version": 2
   },
   "file_extension": ".py",
   "mimetype": "text/x-python",
   "name": "python",
   "nbconvert_exporter": "python",
   "pygments_lexer": "ipython2",
   "version": "2.7.6"
  }
 },
 "nbformat": 4,
 "nbformat_minor": 0
}